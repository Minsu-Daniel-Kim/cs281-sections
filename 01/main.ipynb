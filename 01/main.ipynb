{
 "cells": [
  {
   "cell_type": "markdown",
   "metadata": {},
   "source": [
    "### Scientific Python Quickstart\n",
    "With the help of numpy, scipy, matplotlib and torch, Python becomes a powerful tool for scientific computing. Today, we're going to cover some of tools and tricks to using those libraries to write code for CS281.\n",
    "\n",
    "This tutorial is adapted from the [Python Numpy Tutorial](http://cs231n.github.io/python-numpy-tutorial/) by Justin Johnson, [Getting started with Python for R developers](http://n-s-f.github.io/2017/03/25/r-to-python.html) by \n",
    "Noam Finkelstein, [Linear regression example using Pytorch](https://gist.github.com/lbollar/f7bf60762817a6991038f4323c28f5aa) by Lyndon Ollar.\n",
    "\n",
    "If you have experience using Matlab, you might find [numpy for Matlab](http://scipy.github.io/old-wiki/pages/NumPy_for_Matlab_Users) useful."
   ]
  },
  {
   "cell_type": "markdown",
   "metadata": {
    "collapsed": true
   },
   "source": [
    "#### Installing Python + Numpy\n",
    "For CS281 we're using Python 3, since it now has full support for most scientific packages we might use. In particular, we'll stick to using Python 3.5 or 3.6. You can check what version of Python you have preinstalled via  `python --version`\n",
    "\n",
    "These days it's fairly straightforward to install scientific packages for Python. There are two options:\n",
    "1. Install via [Anaconda](https://conda.io/docs/user-guide/install/download.html), a third-party package manager.\n",
    "2. Install via `pip`, the builtin package manager (`pip` comes pre-installed in Python 3, thankfully):\n",
    "```pip install --user numpy scipy matplotlib```"
   ]
  },
  {
   "cell_type": "markdown",
   "metadata": {},
   "source": [
    "#### Python Basics"
   ]
  },
  {
   "cell_type": "markdown",
   "metadata": {},
   "source": [
    "**Basic data types**\n",
    "\n",
    "Numbers:"
   ]
  },
  {
   "cell_type": "code",
   "execution_count": 1,
   "metadata": {},
   "outputs": [
    {
     "name": "stdout",
     "output_type": "stream",
     "text": [
      "<class 'float'>\n",
      "4.5\n",
      "12.25\n",
      "2.5\n",
      "2\n"
     ]
    }
   ],
   "source": [
    "x = 3.5\n",
    "print(type(x))\n",
    "print(x + 1)\n",
    "print(x ** 2)\n",
    "\n",
    "# note that in Python 3 / means floating point division, and // means integer division:\n",
    "print(5/2)\n",
    "print(5//2)"
   ]
  },
  {
   "cell_type": "markdown",
   "metadata": {},
   "source": [
    "Booleans:"
   ]
  },
  {
   "cell_type": "code",
   "execution_count": null,
   "metadata": {},
   "outputs": [],
   "source": [
    "t = True\n",
    "f = False\n",
    "print(type(t))\n",
    "print(t and f)\n",
    "print(t or f)\n",
    "print(not t)"
   ]
  },
  {
   "cell_type": "markdown",
   "metadata": {},
   "source": [
    "Strings:"
   ]
  },
  {
   "cell_type": "code",
   "execution_count": null,
   "metadata": {},
   "outputs": [],
   "source": [
    "hello = 'hello'\n",
    "print(len(hello))\n",
    "print(hello[0])"
   ]
  },
  {
   "cell_type": "markdown",
   "metadata": {},
   "source": [
    "##### Lists\n",
    "The most basic python data structure is called a list. Much like in R, the Python list can be composed of elements of different types, and just represents an ordered collection:"
   ]
  },
  {
   "cell_type": "code",
   "execution_count": null,
   "metadata": {},
   "outputs": [],
   "source": [
    "xs = [3, 1, 2, 6, 7, 9, 8]\n",
    "print(xs[-1])\n",
    "xs[2] = 'foo'\n",
    "print(xs)\n",
    "xs.append('bar')\n",
    "print(xs)\n",
    "xs.pop()\n",
    "print(xs)\n",
    "print(xs[0:4])\n",
    "print(xs[2:])\n",
    "print(xs[:2])"
   ]
  },
  {
   "cell_type": "markdown",
   "metadata": {},
   "source": [
    "In general be careful about lists in scientific Python code. If you're writing for loops over data elements, you're probably doing it wrong. Matrix multiplications are faster."
   ]
  },
  {
   "cell_type": "markdown",
   "metadata": {},
   "source": [
    "##### Dictionaries"
   ]
  },
  {
   "cell_type": "code",
   "execution_count": null,
   "metadata": {},
   "outputs": [],
   "source": [
    "d = {'cat': 'cute', 'dog': 'furry'}\n",
    "print(d['cat'])\n",
    "d['dog'] = 'cute'\n",
    "print(d['dog'])"
   ]
  },
  {
   "cell_type": "markdown",
   "metadata": {},
   "source": [
    "##### Loops"
   ]
  },
  {
   "cell_type": "code",
   "execution_count": null,
   "metadata": {},
   "outputs": [],
   "source": [
    "nums = [0, 1, 2, 3, 4]\n",
    "squares = []\n",
    "for x in nums:\n",
    "    squares.append(x ** 2)\n",
    "print(squares)"
   ]
  },
  {
   "cell_type": "markdown",
   "metadata": {},
   "source": [
    "##### Functions"
   ]
  },
  {
   "cell_type": "code",
   "execution_count": null,
   "metadata": {},
   "outputs": [],
   "source": [
    "def sign(x):\n",
    "    if x > 0:\n",
    "        return 'positive'\n",
    "    elif x < 0:\n",
    "        return 'negative'\n",
    "    else:\n",
    "        return 'zero'\n",
    "\n",
    "for x in [-1, 0, 1]:\n",
    "    print(sign(x))"
   ]
  },
  {
   "cell_type": "markdown",
   "metadata": {},
   "source": [
    "#### Numpy Basics\n",
    "Numpy stores all data in a compact memory format in the form of `numpy.ndarray`s, which have two important properties: their datatype, and their shape:"
   ]
  },
  {
   "cell_type": "code",
   "execution_count": 3,
   "metadata": {},
   "outputs": [
    {
     "name": "stdout",
     "output_type": "stream",
     "text": [
      "int64\n",
      "(2, 3)\n",
      "[[2 3 4]\n",
      " [4 5 6]]\n"
     ]
    }
   ],
   "source": [
    "import numpy as np\n",
    "a = np.array([[2, 3, 4], [4, 5, 6]])\n",
    "print(a.dtype)\n",
    "print(a.shape)\n",
    "print(a)"
   ]
  },
  {
   "cell_type": "markdown",
   "metadata": {},
   "source": [
    "You can cast an array to the right datatype, and reshape it to be the right shape:"
   ]
  },
  {
   "cell_type": "code",
   "execution_count": 6,
   "metadata": {},
   "outputs": [
    {
     "name": "stdout",
     "output_type": "stream",
     "text": [
      "float32\n",
      "int64\n",
      "[[ 3.2]\n",
      " [ 4.2]\n",
      " [ 5.2]\n",
      " [ 5.2]\n",
      " [ 6.2]\n",
      " [ 7.2]]\n"
     ]
    }
   ],
   "source": [
    "b = a.astype(np.float32)\n",
    "print(b.dtype)\n",
    "c = a.reshape((6, 1))\n",
    "print(c.dtype)\n",
    "print(c + 1.2)"
   ]
  },
  {
   "cell_type": "markdown",
   "metadata": {},
   "source": [
    "One useful trick is that you can reshape with a flexible shape of -1:"
   ]
  },
  {
   "cell_type": "code",
   "execution_count": 7,
   "metadata": {},
   "outputs": [
    {
     "data": {
      "text/plain": [
       "array([[2, 3],\n",
       "       [4, 4],\n",
       "       [5, 6]])"
      ]
     },
     "execution_count": 7,
     "metadata": {},
     "output_type": "execute_result"
    }
   ],
   "source": [
    "a.reshape((3, -1))"
   ]
  },
  {
   "cell_type": "code",
   "execution_count": 8,
   "metadata": {},
   "outputs": [
    {
     "data": {
      "text/plain": [
       "array([[2, 3, 4],\n",
       "       [4, 5, 6]])"
      ]
     },
     "execution_count": 8,
     "metadata": {},
     "output_type": "execute_result"
    }
   ],
   "source": [
    "a"
   ]
  },
  {
   "cell_type": "markdown",
   "metadata": {},
   "source": [
    "\n",
    "One of the most useful way to work with numpy arrays is via indexing and broadcasting, which is probably best taught through a few examples (and a [reference](https://scipy.github.io/old-wiki/pages/Cookbook/Indexing)):"
   ]
  },
  {
   "cell_type": "code",
   "execution_count": 14,
   "metadata": {},
   "outputs": [
    {
     "data": {
      "text/plain": [
       "array([0, 2, 2])"
      ]
     },
     "execution_count": 14,
     "metadata": {},
     "output_type": "execute_result"
    }
   ],
   "source": [
    "a[1, :]"
   ]
  },
  {
   "cell_type": "code",
   "execution_count": 15,
   "metadata": {},
   "outputs": [
    {
     "data": {
      "text/plain": [
       "array([0, 1, 2])"
      ]
     },
     "execution_count": 15,
     "metadata": {},
     "output_type": "execute_result"
    }
   ],
   "source": [
    "np.arange(3)"
   ]
  },
  {
   "cell_type": "code",
   "execution_count": 13,
   "metadata": {},
   "outputs": [
    {
     "name": "stdout",
     "output_type": "stream",
     "text": [
      "[[2 0 4]\n",
      " [1 0 1]]\n",
      "[[2 0 4]\n",
      " [0 1 2]]\n",
      "[[2 0 4]\n",
      " [0 2 2]]\n"
     ]
    }
   ],
   "source": [
    "a[:, 1] = 0.\n",
    "print(a)\n",
    "a[1, :] = np.arange(3)\n",
    "print(a)\n",
    "a[1, 1] = 2.\n",
    "print(a)"
   ]
  },
  {
   "cell_type": "markdown",
   "metadata": {},
   "source": [
    "You can create numpy arrays in a lot of ways, but one way to initialize memory to use later is to use `numpy.zeros`, `numpy.ones`, and `numpy.eye`:"
   ]
  },
  {
   "cell_type": "code",
   "execution_count": 19,
   "metadata": {},
   "outputs": [
    {
     "name": "stdout",
     "output_type": "stream",
     "text": [
      "[[ 0.  0.]\n",
      " [ 0.  0.]\n",
      " [ 0.  0.]]\n",
      "[ 1.  1.]\n",
      "[[ 1.  0.  0.]\n",
      " [ 0.  1.  0.]\n",
      " [ 0.  0.  1.]]\n"
     ]
    }
   ],
   "source": [
    "print(np.zeros((3, 2)))\n",
    "print(np.ones(2))\n",
    "print(np.eye(3))"
   ]
  },
  {
   "cell_type": "markdown",
   "metadata": {},
   "source": [
    "One incredibly powerful technique is to use `np.bool` arrays to index into a numpy array:"
   ]
  },
  {
   "cell_type": "code",
   "execution_count": 21,
   "metadata": {},
   "outputs": [
    {
     "data": {
      "text/plain": [
       "array([[2, 0, 4],\n",
       "       [0, 2, 2]])"
      ]
     },
     "execution_count": 21,
     "metadata": {},
     "output_type": "execute_result"
    }
   ],
   "source": [
    "a"
   ]
  },
  {
   "cell_type": "code",
   "execution_count": 20,
   "metadata": {},
   "outputs": [
    {
     "name": "stdout",
     "output_type": "stream",
     "text": [
      "[[ True False  True]\n",
      " [False  True  True]]\n"
     ]
    }
   ],
   "source": [
    "print(a > 1)"
   ]
  },
  {
   "cell_type": "code",
   "execution_count": 23,
   "metadata": {},
   "outputs": [
    {
     "name": "stdout",
     "output_type": "stream",
     "text": [
      "[[100   0 100]\n",
      " [  0 100 100]]\n"
     ]
    }
   ],
   "source": [
    "a[a > 1] = 100\n",
    "print(a)"
   ]
  },
  {
   "cell_type": "markdown",
   "metadata": {},
   "source": [
    "The above works because `a > 1` is a boolean array of shape (2, 3), which matches the shape of `a`. Here's another example of viewing and indexing:"
   ]
  },
  {
   "cell_type": "code",
   "execution_count": 31,
   "metadata": {},
   "outputs": [
    {
     "name": "stdout",
     "output_type": "stream",
     "text": [
      "[[ 2]\n",
      " [10]\n",
      " [ 4]\n",
      " [10]\n",
      " [ 5]\n",
      " [10]]\n"
     ]
    }
   ],
   "source": [
    "a = np.array([[2, 3, 4], [4, 5, 6]])\n",
    "b = a.reshape((6, -1)).copy()\n",
    "b[np.arange(6) % 2 == 1] = 10"
   ]
  },
  {
   "cell_type": "markdown",
   "metadata": {},
   "source": [
    "In this case, we reviewed `a` as a (6, 1) array, and then indexed in with a boolean array (`np.arange(6) % 2 == 1`) of the same shape, and assigned those values 10. But wait, is that the right shape?"
   ]
  },
  {
   "cell_type": "code",
   "execution_count": 27,
   "metadata": {},
   "outputs": [
    {
     "data": {
      "text/plain": [
       "array([0, 1, 2, 3, 4, 5])"
      ]
     },
     "execution_count": 27,
     "metadata": {},
     "output_type": "execute_result"
    }
   ],
   "source": [
    "np.arange(6)"
   ]
  },
  {
   "cell_type": "code",
   "execution_count": 26,
   "metadata": {},
   "outputs": [
    {
     "data": {
      "text/plain": [
       "array([False,  True, False,  True, False,  True], dtype=bool)"
      ]
     },
     "execution_count": 26,
     "metadata": {},
     "output_type": "execute_result"
    }
   ],
   "source": [
    "np.arange(6) % 2 == 1"
   ]
  },
  {
   "cell_type": "markdown",
   "metadata": {},
   "source": [
    "What happened here is that numpy *broadcasted* out the extra dimension for you, understanding what was going on. Here's another example of broadcasting:"
   ]
  },
  {
   "cell_type": "code",
   "execution_count": 34,
   "metadata": {},
   "outputs": [],
   "source": [
    "predicate = np.arange(3) % 2 == 1"
   ]
  },
  {
   "cell_type": "code",
   "execution_count": 37,
   "metadata": {},
   "outputs": [
    {
     "data": {
      "text/plain": [
       "array([[100, 100]])"
      ]
     },
     "execution_count": 37,
     "metadata": {},
     "output_type": "execute_result"
    }
   ],
   "source": [
    "a[predicate]"
   ]
  },
  {
   "cell_type": "code",
   "execution_count": 36,
   "metadata": {},
   "outputs": [
    {
     "name": "stdout",
     "output_type": "stream",
     "text": [
      "[[  2   3]\n",
      " [100 100]\n",
      " [  5   6]]\n"
     ]
    }
   ],
   "source": [
    "a = np.array([[2, 3], [4, 4], [5, 6]])\n",
    "a[predicate] = 100.\n",
    "print(a)"
   ]
  },
  {
   "cell_type": "markdown",
   "metadata": {},
   "source": [
    "See the reference for more examples of broadcasting. Recently, PyTorch added support for the same kind of broadcasting.\n",
    "\n",
    "One big gotcha is that arrays are often copied as views into the same underlying data rather than a copy, so be careful:"
   ]
  },
  {
   "cell_type": "code",
   "execution_count": 38,
   "metadata": {},
   "outputs": [
    {
     "name": "stdout",
     "output_type": "stream",
     "text": [
      "[[0 0]\n",
      " [0 0]\n",
      " [5 6]]\n",
      "[[0 0]\n",
      " [0 0]\n",
      " [5 6]]\n"
     ]
    }
   ],
   "source": [
    "b = a\n",
    "b[:2] = 0\n",
    "print(b)\n",
    "print(a)"
   ]
  },
  {
   "cell_type": "code",
   "execution_count": 40,
   "metadata": {
    "collapsed": true
   },
   "outputs": [],
   "source": [
    "a = np.arange(6).reshape((3, 2))"
   ]
  },
  {
   "cell_type": "code",
   "execution_count": 41,
   "metadata": {
    "scrolled": true
   },
   "outputs": [
    {
     "name": "stdout",
     "output_type": "stream",
     "text": [
      "[[0 0]\n",
      " [0 0]\n",
      " [4 5]]\n",
      "[[0 1]\n",
      " [2 3]\n",
      " [4 5]]\n"
     ]
    }
   ],
   "source": [
    "b = a.copy()\n",
    "b[:2] = 0\n",
    "print(b)\n",
    "print(a)"
   ]
  },
  {
   "cell_type": "markdown",
   "metadata": {},
   "source": [
    "#### Math\n",
    "You can use your usual math operations like you'd expect, though there are few ways to do matrix multiplication:"
   ]
  },
  {
   "cell_type": "code",
   "execution_count": 42,
   "metadata": {},
   "outputs": [
    {
     "data": {
      "text/plain": [
       "array([[ 0.79952287,  1.74490835,  0.87226242],\n",
       "       [ 1.36348528,  1.11477356,  0.67510739]])"
      ]
     },
     "execution_count": 42,
     "metadata": {},
     "output_type": "execute_result"
    }
   ],
   "source": [
    "a = np.random.random(size=(2, 3))\n",
    "b = np.random.random(size=(2, 3))\n",
    "a + b"
   ]
  },
  {
   "cell_type": "markdown",
   "metadata": {},
   "source": [
    "Taking the transpose so you can multiply matrices is easy:"
   ]
  },
  {
   "cell_type": "code",
   "execution_count": 45,
   "metadata": {},
   "outputs": [
    {
     "data": {
      "text/plain": [
       "array([[ 1.08875566,  1.03511289],\n",
       "       [ 0.70975563,  0.80713244]])"
      ]
     },
     "execution_count": 45,
     "metadata": {},
     "output_type": "execute_result"
    }
   ],
   "source": [
    "# equivalent ways of doing the same thing\n",
    "np.dot(a, b.T)\n",
    "a.dot(b.T)\n",
    "a @ b.T"
   ]
  },
  {
   "cell_type": "code",
   "execution_count": 46,
   "metadata": {},
   "outputs": [
    {
     "data": {
      "text/plain": [
       "array([[ 0.15781027,  0.7517463 ,  0.17919909],\n",
       "       [ 0.46470991,  0.23275293,  0.10966959]])"
      ]
     },
     "execution_count": 46,
     "metadata": {},
     "output_type": "execute_result"
    }
   ],
   "source": [
    "# note that this is element-wise multiplication, which is different:\n",
    "a * b"
   ]
  },
  {
   "cell_type": "markdown",
   "metadata": {},
   "source": [
    "There are many possible ways to sample from random distributions in `numpy` and `scipy`:"
   ]
  },
  {
   "cell_type": "code",
   "execution_count": 48,
   "metadata": {},
   "outputs": [
    {
     "data": {
      "text/plain": [
       "array([1, 4, 3, 0, 1, 4, 3, 0, 3, 2])"
      ]
     },
     "execution_count": 48,
     "metadata": {},
     "output_type": "execute_result"
    }
   ],
   "source": [
    "np.random.choice(5, 10)"
   ]
  },
  {
   "cell_type": "code",
   "execution_count": 49,
   "metadata": {},
   "outputs": [
    {
     "name": "stdout",
     "output_type": "stream",
     "text": [
      "[1 2 4]\n",
      "[[ 0.  1.  0.  0.  0.]\n",
      " [ 0.  0.  1.  0.  0.]\n",
      " [ 0.  0.  0.  0.  1.]]\n"
     ]
    }
   ],
   "source": [
    "choices = np.random.choice(5, 3)\n",
    "print(choices)\n",
    "one_hot = np.zeros((3, 5))\n",
    "one_hot[np.arange(3), choices] = 1.\n",
    "print(one_hot)"
   ]
  },
  {
   "cell_type": "code",
   "execution_count": 50,
   "metadata": {},
   "outputs": [
    {
     "data": {
      "text/plain": [
       "array([[ 0.690147  ,  1.49387326],\n",
       "       [ 1.54489993,  1.64868332]])"
      ]
     },
     "execution_count": 50,
     "metadata": {},
     "output_type": "execute_result"
    }
   ],
   "source": [
    "np.random.lognormal(size=(2, 2))"
   ]
  },
  {
   "cell_type": "code",
   "execution_count": 51,
   "metadata": {},
   "outputs": [
    {
     "data": {
      "text/plain": [
       "0.84191036206159553"
      ]
     },
     "execution_count": 51,
     "metadata": {},
     "output_type": "execute_result"
    }
   ],
   "source": [
    "from scipy import stats\n",
    "rv = stats.truncnorm(a=0.1, b=2.)\n",
    "rv.pdf(0.4)"
   ]
  },
  {
   "cell_type": "markdown",
   "metadata": {},
   "source": [
    "In general, if there is a mathematical or statistical operation you want to perform, there is almost certainly a way to do it using `numpy` or `scipy`, using builtin operations which are fast. Ask a TF for help if you're ever stuck on this."
   ]
  },
  {
   "cell_type": "markdown",
   "metadata": {},
   "source": [
    "#### Matplotlib\n",
    "While we can't cover everything in `matplotlib`, the default plotting library for scientific Python, we can go over some of the simple examples:"
   ]
  },
  {
   "cell_type": "code",
   "execution_count": 52,
   "metadata": {},
   "outputs": [
    {
     "data": {
      "text/plain": [
       "[<matplotlib.lines.Line2D at 0x10da67978>]"
      ]
     },
     "execution_count": 52,
     "metadata": {},
     "output_type": "execute_result"
    },
    {
     "data": {
      "image/png": "[encoded data removed]",
      "text/plain": [
       "<matplotlib.figure.Figure at 0x10cb33588>"
      ]
     },
     "metadata": {},
     "output_type": "display_data"
    }
   ],
   "source": [
    "import matplotlib.pyplot as plt\n",
    "\n",
    "# this line makes our plots inline for IPython\n",
    "%matplotlib inline \n",
    "\n",
    "# Compute the x and y coordinates for points on a sine curve\n",
    "x = np.arange(0, 3 * np.pi, 0.1)\n",
    "y = np.sin(x)\n",
    "\n",
    "# Plot the points using matplotlib\n",
    "plt.plot(x, y)"
   ]
  },
  {
   "cell_type": "code",
   "execution_count": 54,
   "metadata": {},
   "outputs": [
    {
     "data": {
      "text/plain": [
       "<matplotlib.legend.Legend at 0x10dc10668>"
      ]
     },
     "execution_count": 54,
     "metadata": {},
     "output_type": "execute_result"
    },
    {
     "data": {
      "image/png": "[encoded data removed]",
      "text/plain": [
       "<matplotlib.figure.Figure at 0x10d01eda0>"
      ]
     },
     "metadata": {},
     "output_type": "display_data"
    }
   ],
   "source": [
    "y_sin = y\n",
    "y_cos = np.cos(x)\n",
    "\n",
    "# Plot the points using matplotlib\n",
    "plt.plot(x, y_sin, label='sin')\n",
    "plt.plot(x, y_cos, label='cos')\n",
    "plt.xlabel('x axis label')\n",
    "plt.ylabel('y axis label')\n",
    "plt.title('Sine and Cosine')\n",
    "plt.legend()"
   ]
  },
  {
   "cell_type": "markdown",
   "metadata": {},
   "source": [
    "One very useful tool is to use `imshow` to examine simple matrices or images to figure out what's going on:"
   ]
  },
  {
   "cell_type": "code",
   "execution_count": 55,
   "metadata": {},
   "outputs": [
    {
     "data": {
      "text/plain": [
       "<matplotlib.image.AxesImage at 0x10dcf0400>"
      ]
     },
     "execution_count": 55,
     "metadata": {},
     "output_type": "execute_result"
    },
    {
     "data": {
      "image/png": "[encoded data removed]",
      "text/plain": [
       "<matplotlib.figure.Figure at 0x10dc2eef0>"
      ]
     },
     "metadata": {},
     "output_type": "display_data"
    }
   ],
   "source": [
    "data = np.random.random((30, 30))\n",
    "plt.imshow(data, cmap='Greys')"
   ]
  },
  {
   "cell_type": "code",
   "execution_count": 56,
   "metadata": {},
   "outputs": [
    {
     "data": {
      "text/plain": [
       "<matplotlib.image.AxesImage at 0x10de17208>"
      ]
     },
     "execution_count": 56,
     "metadata": {},
     "output_type": "execute_result"
    },
    {
     "data": {
      "image/png": "[encoded data removed]",
      "text/plain": [
       "<matplotlib.figure.Figure at 0x10dd088d0>"
      ]
     },
     "metadata": {},
     "output_type": "display_data"
    }
   ],
   "source": [
    "data[:10, :] = 0.\n",
    "data[20:, :] = 1.\n",
    "data[data > 0.6] = 1.\n",
    "data[data < 0.4] = 0.\n",
    "plt.imshow(data, cmap='Greys')"
   ]
  },
  {
   "cell_type": "markdown",
   "metadata": {},
   "source": [
    "Of course, it's always very useful to plot distributions:"
   ]
  },
  {
   "cell_type": "code",
   "execution_count": 58,
   "metadata": {},
   "outputs": [
    {
     "ename": "ImportError",
     "evalue": "No module named 'seaborn'",
     "output_type": "error",
     "traceback": [
      "\u001b[0;31m---------------------------------------------------------------------------\u001b[0m",
      "\u001b[0;31mImportError\u001b[0m                               Traceback (most recent call last)",
      "\u001b[0;32m<ipython-input-58-c37761de47cd>\u001b[0m in \u001b[0;36m<module>\u001b[0;34m()\u001b[0m\n\u001b[0;32m----> 1\u001b[0;31m \u001b[0;32mimport\u001b[0m \u001b[0mseaborn\u001b[0m \u001b[0;32mas\u001b[0m \u001b[0msns\u001b[0m\u001b[0;34m\u001b[0m\u001b[0m\n\u001b[0m\u001b[1;32m      2\u001b[0m \u001b[0mdata\u001b[0m \u001b[0;34m=\u001b[0m \u001b[0mnp\u001b[0m\u001b[0;34m.\u001b[0m\u001b[0mrandom\u001b[0m\u001b[0;34m.\u001b[0m\u001b[0mnormal\u001b[0m\u001b[0;34m(\u001b[0m\u001b[0;36m0\u001b[0m\u001b[0;34m,\u001b[0m \u001b[0;36m1.\u001b[0m\u001b[0;34m,\u001b[0m \u001b[0msize\u001b[0m\u001b[0;34m=\u001b[0m\u001b[0;34m(\u001b[0m\u001b[0;36m2000\u001b[0m\u001b[0;34m,\u001b[0m\u001b[0;34m)\u001b[0m\u001b[0;34m)\u001b[0m\u001b[0;34m\u001b[0m\u001b[0m\n\u001b[1;32m      3\u001b[0m \u001b[0msns\u001b[0m\u001b[0;34m.\u001b[0m\u001b[0mdistplot\u001b[0m\u001b[0;34m(\u001b[0m\u001b[0;34m)\u001b[0m\u001b[0;34m\u001b[0m\u001b[0m\n",
      "\u001b[0;31mImportError\u001b[0m: No module named 'seaborn'"
     ]
    }
   ],
   "source": [
    "import seaborn as sns\n",
    "sns.distplot()"
   ]
  },
  {
   "cell_type": "code",
   "execution_count": 57,
   "metadata": {},
   "outputs": [
    {
     "data": {
      "image/png": "[encoded data removed]",
      "text/plain": [
       "<matplotlib.figure.Figure at 0x10daab5c0>"
      ]
     },
     "metadata": {},
     "output_type": "display_data"
    }
   ],
   "source": [
    "rv = stats.truncnorm(0.1, 2)\n",
    "x = np.linspace(0.0, 2.1, 100)\n",
    "plt.plot(x, rv.pdf(x), 'r-', label='truncnorm pdf', lw=2.)\n",
    "plt.grid()"
   ]
  },
  {
   "cell_type": "markdown",
   "metadata": {},
   "source": [
    "#### Reminders\n",
    "These are some reminders (for both CS281 and future courses/projects):\n",
    "- make sure you label your axes\n",
    "- make sure you make axes tick labels big enough to read (i.e., use `plt.tick_params(labelsize=14)` etc.)\n",
    "- try to include legends when it's necessary: \n",
    "```\n",
    "plt.plot(data, label='method_a')\n",
    "plt.legend()```\n",
    "- export images in high resolution: `plt.savefig('export.png', dpi=300, bbox_inches='tight')`\n"
   ]
  },
  {
   "cell_type": "markdown",
   "metadata": {
    "collapsed": true
   },
   "source": [
    "#### PyTorch Basics\n",
    "PyTorch features\n",
    "* Tensor computation (like numpy) with strong GPU acceleration\n",
    "* Deep Neural Networks built on a tape-based autograd system"
   ]
  },
  {
   "cell_type": "code",
   "execution_count": 59,
   "metadata": {
    "collapsed": true
   },
   "outputs": [],
   "source": [
    "import torch\n",
    "from torch.autograd import Variable"
   ]
  },
  {
   "cell_type": "code",
   "execution_count": 62,
   "metadata": {},
   "outputs": [
    {
     "data": {
      "text/plain": [
       "\n",
       " 0.8741  0.7082  0.9289\n",
       " 0.4556  0.0554  0.6094\n",
       " 0.9771  0.7128  0.1069\n",
       "[torch.FloatTensor of size 3x3]"
      ]
     },
     "execution_count": 62,
     "metadata": {},
     "output_type": "execute_result"
    }
   ],
   "source": [
    "torch.Tensor(np.random.random((3, 3)))"
   ]
  },
  {
   "cell_type": "markdown",
   "metadata": {},
   "source": [
    "##### Tensor Basics"
   ]
  },
  {
   "cell_type": "code",
   "execution_count": 63,
   "metadata": {},
   "outputs": [
    {
     "name": "stdout",
     "output_type": "stream",
     "text": [
      "Variable containing:\n",
      " 1  1\n",
      " 1  1\n",
      "[torch.FloatTensor of size 2x2]\n",
      "\n",
      "Variable containing:\n",
      " 3  3\n",
      " 3  3\n",
      "[torch.FloatTensor of size 2x2]\n",
      "\n"
     ]
    }
   ],
   "source": [
    "x = Variable(torch.ones(2, 2), requires_grad=True)\n",
    "print(x)\n",
    "y = x + 2\n",
    "print(y)"
   ]
  },
  {
   "cell_type": "code",
   "execution_count": 66,
   "metadata": {},
   "outputs": [
    {
     "name": "stdout",
     "output_type": "stream",
     "text": [
      "Variable containing:\n",
      " 4  4\n",
      " 4  4\n",
      "[torch.FloatTensor of size 2x2]\n",
      "\n"
     ]
    }
   ],
   "source": [
    "print(x + y)"
   ]
  },
  {
   "cell_type": "markdown",
   "metadata": {},
   "source": [
    "##### Automatic Gradient Example"
   ]
  },
  {
   "cell_type": "markdown",
   "metadata": {},
   "source": [
    "We begin with a 1-d linear regression toy example, where we generate data points by sampling from a line and adding noise."
   ]
  },
  {
   "cell_type": "code",
   "execution_count": 67,
   "metadata": {},
   "outputs": [
    {
     "data": {
      "image/png": "[encoded data removed]",
      "text/plain": [
       "<matplotlib.figure.Figure at 0x10f5e9fd0>"
      ]
     },
     "metadata": {},
     "output_type": "display_data"
    }
   ],
   "source": [
    "N = 64\n",
    "a = 3\n",
    "b = 4\n",
    "\n",
    "x_data = np.random.randn(N)\n",
    "noise = np.random.random(N)\n",
    "\n",
    "y_data = a + b*x_data + noise\n",
    "\n",
    "plt.plot(x_data,y_data, 'r.')\n",
    "plt.show()"
   ]
  },
  {
   "cell_type": "markdown",
   "metadata": {},
   "source": [
    "In order to work with PyTorch, we need to convert numpy arrays to PyTorch variables."
   ]
  },
  {
   "cell_type": "code",
   "execution_count": 68,
   "metadata": {
    "collapsed": true
   },
   "outputs": [],
   "source": [
    "x = Variable(torch.Tensor(x_data), requires_grad=False)\n",
    "y = Variable(torch.Tensor(y_data), requires_grad=False)"
   ]
  },
  {
   "cell_type": "markdown",
   "metadata": {},
   "source": [
    "We specify a linear model with two parameters `w_alpha` and `w_beta`: ```y_pred = w_alpha + w_beta * x```. We initialize the parameters from the normal distribution."
   ]
  },
  {
   "cell_type": "code",
   "execution_count": 69,
   "metadata": {
    "collapsed": true
   },
   "outputs": [],
   "source": [
    "w_alpha = Variable(torch.randn(1), requires_grad=True)\n",
    "w_beta = Variable(torch.randn(1), requires_grad=True)"
   ]
  },
  {
   "cell_type": "markdown",
   "metadata": {},
   "source": [
    "The initial model:"
   ]
  },
  {
   "cell_type": "code",
   "execution_count": 70,
   "metadata": {},
   "outputs": [
    {
     "data": {
      "image/png": "[encoded data removed]",
      "text/plain": [
       "<matplotlib.figure.Figure at 0x10f65dbe0>"
      ]
     },
     "metadata": {},
     "output_type": "display_data"
    }
   ],
   "source": [
    "alpha = w_alpha.data.numpy()\n",
    "beta = w_beta.data.numpy()\n",
    "x_min = x_data.min()\n",
    "x_max = x_data.max()\n",
    "y_pred_min = alpha + beta*x_min\n",
    "y_pred_max = alpha + beta*x_max\n",
    "plt.plot(x_data,y_data, 'r.')\n",
    "plt.plot([x_min,x_max], [y_pred_min,y_pred_max], 'b-')\n",
    "plt.show()"
   ]
  },
  {
   "cell_type": "markdown",
   "metadata": {},
   "source": [
    "Now we want to fit the model to the given data points. In order to do so, we minimize `(y_pred-y)^2` and use PyTorch's automatic differentiation to calculate the gradients."
   ]
  },
  {
   "cell_type": "code",
   "execution_count": 72,
   "metadata": {},
   "outputs": [
    {
     "name": "stdout",
     "output_type": "stream",
     "text": [
      "None\n"
     ]
    }
   ],
   "source": [
    "print(w_alpha.grad)"
   ]
  },
  {
   "cell_type": "code",
   "execution_count": 73,
   "metadata": {},
   "outputs": [
    {
     "name": "stdout",
     "output_type": "stream",
     "text": [
      "0 47.5253791809082\n",
      "20 43.093719482421875\n",
      "40 38.9443244934082\n",
      "60 35.09820556640625\n",
      "80 31.55081558227539\n",
      "100 28.289331436157227\n",
      "120 25.299175262451172\n",
      "140 22.565532684326172\n",
      "160 20.07367706298828\n",
      "180 17.80902099609375\n",
      "200 15.757184028625488\n",
      "220 13.904029846191406\n",
      "240 12.235723495483398\n",
      "260 10.738764762878418\n",
      "280 9.400054931640625\n",
      "300 8.206902503967285\n",
      "320 7.147120952606201\n",
      "340 6.209033012390137\n",
      "360 5.3815178871154785\n",
      "380 4.654043674468994\n",
      "400 4.016679286956787\n",
      "420 3.4601364135742188\n",
      "440 2.9757580757141113\n",
      "460 2.555532455444336\n",
      "480 2.1920859813690186\n",
      "500 1.8786736726760864\n",
      "520 1.6091663837432861\n",
      "540 1.3780298233032227\n",
      "560 1.180287480354309\n",
      "580 1.0114967823028564\n",
      "600 0.8677151799201965\n",
      "620 0.745461106300354\n",
      "640 0.6416783928871155\n",
      "660 0.5536975264549255\n",
      "680 0.47919830679893494\n",
      "700 0.4161743223667145\n",
      "720 0.3628953993320465\n",
      "740 0.31787875294685364\n",
      "760 0.27985742688179016\n",
      "780 0.24775134027004242\n",
      "800 0.22064319252967834\n",
      "820 0.1977560818195343\n",
      "840 0.1784328669309616\n",
      "860 0.16211789846420288\n",
      "880 0.14834313094615936\n",
      "900 0.13671423494815826\n",
      "920 0.12689799070358276\n",
      "940 0.11861439794301987\n",
      "960 0.1116269901394844\n",
      "980 0.10573634505271912\n"
     ]
    }
   ],
   "source": [
    "optimizer = torch.optim.Adam([w_alpha, w_beta], lr=1e-2)\n",
    "\n",
    "for t in range(1000):\n",
    "#     y_pred = x.mul(w_beta).add(w_alpha.expand(N))\n",
    "    y_pred = x * w_beta + w_alpha\n",
    "    \n",
    "    loss = (y_pred - y).pow(2).mean()\n",
    "    \n",
    "    if t % 20 == 0:\n",
    "        print(t, loss.data[0])\n",
    "    \n",
    "    optimizer.zero_grad()\n",
    "    \n",
    "    loss.backward()\n",
    "    \n",
    "    optimizer.step()"
   ]
  },
  {
   "cell_type": "markdown",
   "metadata": {},
   "source": [
    "Now we convert the fitted parameters back to numpy."
   ]
  },
  {
   "cell_type": "code",
   "execution_count": 74,
   "metadata": {},
   "outputs": [
    {
     "name": "stdout",
     "output_type": "stream",
     "text": [
      "Optimized Alpha: [ 3.49714041]\n",
      "Optimized Beta: [ 3.89685893]\n"
     ]
    }
   ],
   "source": [
    "alpha = w_alpha.data.numpy()\n",
    "beta = w_beta.data.numpy()\n",
    "print(\"Optimized Alpha: {0}\".format(alpha))\n",
    "print(\"Optimized Beta: {0}\".format(beta))"
   ]
  },
  {
   "cell_type": "markdown",
   "metadata": {},
   "source": [
    "The trained model would be something that looks like below. Since we do not fix random seeds, each run might return a slightly different result."
   ]
  },
  {
   "cell_type": "code",
   "execution_count": 75,
   "metadata": {},
   "outputs": [
    {
     "data": {
      "image/png": "[encoded data removed]",
      "text/plain": [
       "<matplotlib.figure.Figure at 0x10f7ac6d8>"
      ]
     },
     "metadata": {},
     "output_type": "display_data"
    }
   ],
   "source": [
    "x_min = x_data.min()\n",
    "x_max = x_data.max()\n",
    "y_pred_min = alpha + beta*x_min\n",
    "y_pred_max = alpha + beta*x_max\n",
    "\n",
    "plt.plot(x_data,y_data, 'r.')\n",
    "plt.plot([x_min,x_max], [y_pred_min,y_pred_max], 'b-')\n",
    "plt.show()"
   ]
  },
  {
   "cell_type": "markdown",
   "metadata": {
    "collapsed": true
   },
   "source": [
    "More complicated loss functions are implemented inside PyTorch, inside `torch.nn` (e.g. `L1Loss, MSELoss, NLLLoss`, etc.). PyTorch can be thought of as a GPU-optimized version of Numpy, with autograd built in, as well as a whole host of useful transformations that might form the building blocks of "
   ]
  },
  {
   "cell_type": "code",
   "execution_count": null,
   "metadata": {
    "collapsed": true
   },
   "outputs": [],
   "source": []
  }
 ],
 "metadata": {
  "kernelspec": {
   "display_name": "Python 3",
   "language": "python",
   "name": "python3"
  },
  "language_info": {
   "codemirror_mode": {
    "name": "ipython",
    "version": 3
   },
   "file_extension": ".py",
   "mimetype": "text/x-python",
   "name": "python",
   "nbconvert_exporter": "python",
   "pygments_lexer": "ipython3",
   "version": "3.5.1"
  }
 },
 "nbformat": 4,
 "nbformat_minor": 2
}
