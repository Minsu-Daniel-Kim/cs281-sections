{
 "cells": [
  {
   "cell_type": "code",
   "execution_count": 1,
   "metadata": {
    "collapsed": true
   },
   "outputs": [],
   "source": [
    "%matplotlib inline\n",
    "import torch\n",
    "import numpy as np\n",
    "import matplotlib.pyplot as plt\n",
    "import seaborn as sns\n",
    "import torch.nn as nn\n",
    "import torch.nn.functional as F\n",
    "from torch.autograd import Variable\n",
    "sns.set(color_codes=True)"
   ]
  },
  {
   "cell_type": "code",
   "execution_count": 2,
   "metadata": {
    "collapsed": true
   },
   "outputs": [],
   "source": [
    "# let's set seeds to be sure we get the same thing every tim\n",
    "np.random.seed(0)\n",
    "torch.manual_seed(0);"
   ]
  },
  {
   "cell_type": "code",
   "execution_count": 3,
   "metadata": {
    "collapsed": true
   },
   "outputs": [],
   "source": [
    "# let's build a linear regression dataset in PyTorch\n",
    "N = 10000\n",
    "D = 10\n",
    "X = np.random.random((N, D))\n",
    "w_true = np.random.random((D, 1))\n",
    "\n",
    "# note! data generating process doesn't have a bias, so we won't include it in our model (makes life easier)\n",
    "Y = X.dot(w_true) + np.random.normal(size=(N, 1))\n",
    "\n",
    "split = int(N * 0.9)\n",
    "X_train, X_test = X[:split], X[split:]\n",
    "Y_train, Y_test = Y[:split], Y[split:]"
   ]
  },
  {
   "cell_type": "code",
   "execution_count": 4,
   "metadata": {
    "collapsed": true
   },
   "outputs": [],
   "source": [
    "# let's put the data into PyTorch variables:\n",
    "Xt = Variable(torch.Tensor(X_train), requires_grad=False)\n",
    "Yt = Variable(torch.Tensor(Y_train), requires_grad=False)\n",
    "\n",
    "# so we're clear about how we're sampling the initial point\n",
    "weights = Variable(torch.from_numpy(np.random.random((10, 1)).astype(np.float32)), requires_grad=True)\n",
    "\n",
    "# ok, let's set up the model:\n",
    "def forward(X, Y, weights):\n",
    "    loss = (Y - torch.mm(X, weights)).pow(2).mean()\n",
    "    # alternatively\n",
    "    # loss = F.mse_loss(torch.mm(Xt, weights), Yt)\n",
    "    # though note the scaling difference\n",
    "    return loss\n",
    "    \n",
    "def train(optimizer):\n",
    "    # look! no gradient calculations\n",
    "    optimizer.zero_grad()\n",
    "    loss = forward(Xt, Yt, weights)\n",
    "    loss.backward()\n",
    "    optimizer.step()\n",
    "    return loss.data[0]\n",
    "\n",
    "Xte = Variable(torch.Tensor(X_test), requires_grad=False)\n",
    "Yte = Variable(torch.Tensor(Y_test), requires_grad=False)\n",
    "\n",
    "def test():\n",
    "    loss = forward(Xte, Yte, weights)\n",
    "    return loss.data[0]"
   ]
  },
  {
   "cell_type": "code",
   "execution_count": 5,
   "metadata": {},
   "outputs": [
    {
     "data": {
      "text/plain": [
       "[<matplotlib.lines.Line2D at 0x102743e80>]"
      ]
     },
     "execution_count": 5,
     "metadata": {},
     "output_type": "execute_result"
    },
    {
     "data": {
      "image/png": "[encoded data removed]",
      "text/plain": [
       "<matplotlib.figure.Figure at 0x10a5a6898>"
      ]
     },
     "metadata": {},
     "output_type": "display_data"
    }
   ],
   "source": [
    "train_losses = np.zeros(500)\n",
    "test_losses = np.zeros(500)\n",
    "optimizer = torch.optim.SGD([weights], lr=0.03)\n",
    "for i in range(500):\n",
    "    train_losses[i] = train(optimizer)\n",
    "    test_losses[i] = test()\n",
    "\n",
    "plt.figure(figsize=(10, 6))\n",
    "ax = plt.gca()    \n",
    "ax.set_xlabel('Epoch')\n",
    "ax.set_ylabel('Loss')\n",
    "ax.plot(np.arange(500), train_losses, color='g', label='train')\n",
    "ax.plot(np.arange(500), test_losses, color='r', label='test')"
   ]
  },
  {
   "cell_type": "markdown",
   "metadata": {},
   "source": [
    "Similarly, we can use any of the losses in `nn.functional` to create a loss, and do backprop.\n",
    "\n",
    "While PyTorch comes with a lot of stuff built in, sometimes you'll need to write your own 'components', which are called `Functions` in PyTorch. Here's an example:"
   ]
  },
  {
   "cell_type": "code",
   "execution_count": 6,
   "metadata": {
    "collapsed": true
   },
   "outputs": [],
   "source": [
    "class Exp(torch.autograd.Function):\n",
    "    def forward(self, a):\n",
    "        value = a.exp()\n",
    "        self.save_for_backward(value)\n",
    "        return value\n",
    "\n",
    "    def backward(self, grad_output):\n",
    "        value, = self.saved_tensors\n",
    "        \n",
    "        # dL/dx = dL/dy * dy/dx\n",
    "        return grad_output * value"
   ]
  },
  {
   "cell_type": "code",
   "execution_count": 7,
   "metadata": {},
   "outputs": [
    {
     "data": {
      "text/plain": [
       "True"
      ]
     },
     "execution_count": 7,
     "metadata": {},
     "output_type": "execute_result"
    }
   ],
   "source": [
    "from torch.autograd import gradcheck\n",
    "input = (Variable(torch.DoubleTensor(50,50).uniform_(), requires_grad=True),)\n",
    "gradcheck(Exp(), input, eps=1e-6, atol=1e-3)"
   ]
  },
  {
   "cell_type": "markdown",
   "metadata": {},
   "source": [
    "Here's a slightly closer to real-world example, which uses MNIST, a (relatively easy) dataset for classifying digits."
   ]
  },
  {
   "cell_type": "code",
   "execution_count": 8,
   "metadata": {},
   "outputs": [
    {
     "name": "stdout",
     "output_type": "stream",
     "text": [
      "Downloading http://yann.lecun.com/exdb/mnist/train-images-idx3-ubyte.gz\n",
      "Downloading http://yann.lecun.com/exdb/mnist/train-labels-idx1-ubyte.gz\n",
      "Downloading http://yann.lecun.com/exdb/mnist/t10k-images-idx3-ubyte.gz\n",
      "Downloading http://yann.lecun.com/exdb/mnist/t10k-labels-idx1-ubyte.gz\n",
      "Processing...\n",
      "Done!\n"
     ]
    }
   ],
   "source": [
    "import torch.utils.data\n",
    "from torchvision import datasets, transforms\n",
    "train_loader = torch.utils.data.DataLoader(\n",
    "    datasets.MNIST('data/', train=True, download=True, transform=transforms.ToTensor()),\n",
    "    batch_size=64, shuffle=True)\n",
    "test_loader = torch.utils.data.DataLoader(\n",
    "    datasets.MNIST('data/', train=False, transform=transforms.ToTensor()),\n",
    "    batch_size=64, shuffle=True)"
   ]
  },
  {
   "cell_type": "code",
   "execution_count": 9,
   "metadata": {
    "collapsed": true
   },
   "outputs": [],
   "source": [
    "class Net(nn.Module):\n",
    "    def __init__(self):\n",
    "        super(Net, self).__init__()\n",
    "        self.conv1 = nn.Conv2d(1, 10, kernel_size=5)\n",
    "        self.conv2 = nn.Conv2d(10, 20, kernel_size=5)\n",
    "        self.conv2_drop = nn.Dropout2d()\n",
    "        self.fc1 = nn.Linear(320, 50)\n",
    "        self.fc2 = nn.Linear(50, 10)\n",
    "\n",
    "    def forward(self, x):\n",
    "        x = F.relu(F.max_pool2d(self.conv1(x), 2))\n",
    "        x = F.relu(F.max_pool2d(self.conv2_drop(self.conv2(x)), 2))\n",
    "        x = x.view(-1, 320)\n",
    "        x = F.relu(self.fc1(x))\n",
    "        x = F.dropout(x, training=self.training)\n",
    "        x = self.fc2(x)\n",
    "        return F.log_softmax(x)"
   ]
  },
  {
   "cell_type": "code",
   "execution_count": 10,
   "metadata": {
    "collapsed": true
   },
   "outputs": [],
   "source": [
    "model = Net()\n",
    "optimizer = torch.optim.SGD(model.parameters(), lr=0.003)"
   ]
  },
  {
   "cell_type": "code",
   "execution_count": 11,
   "metadata": {
    "collapsed": true
   },
   "outputs": [],
   "source": [
    "def train(epoch):\n",
    "    model.train()\n",
    "    total_loss = 0.0\n",
    "    for batch_idx, (data, target) in enumerate(train_loader):\n",
    "        data, target = Variable(data), Variable(target)\n",
    "        optimizer.zero_grad()\n",
    "        output = model(data)\n",
    "        loss = F.nll_loss(output, target)\n",
    "        loss.backward()\n",
    "        optimizer.step()\n",
    "        if batch_idx % 100 == 0:\n",
    "            print('Train Epoch: {:<2} [{:<5}/{:<5} ({:<2.0f}%)]\\tLoss: {:.6f}'.format(\n",
    "                epoch, batch_idx * len(data), len(train_loader.dataset),\n",
    "                100. * batch_idx / len(train_loader), loss.data[0]))\n",
    "        total_loss += loss.data[0]\n",
    "    return total_loss/len(train_loader)\n",
    "\n",
    "def test():\n",
    "    model.eval()\n",
    "    test_loss = 0\n",
    "    correct = 0\n",
    "    for data, target in test_loader:\n",
    "        data, target = Variable(data, volatile=True), Variable(target)\n",
    "        output = model(data)\n",
    "        test_loss += F.nll_loss(output, target, size_average=False).data[0] # sum up batch loss\n",
    "        pred = output.data.max(1, keepdim=True)[1] # get the index of the max log-probability\n",
    "        correct += pred.eq(target.data.view_as(pred)).sum()\n",
    "\n",
    "    test_loss /= len(test_loader.dataset)\n",
    "    print('\\nTest set: Average loss: {:.4f}, Accuracy: {}/{} ({:.0f}%)\\n'.format(\n",
    "        test_loss, correct, len(test_loader.dataset),\n",
    "        100. * correct / len(test_loader.dataset)))\n",
    "    return test_loss"
   ]
  },
  {
   "cell_type": "code",
   "execution_count": 12,
   "metadata": {},
   "outputs": [
    {
     "name": "stdout",
     "output_type": "stream",
     "text": [
      "Train Epoch: 1  [0    /60000 (0 %)]\tLoss: 2.310014\n",
      "Train Epoch: 1  [6400 /60000 (11%)]\tLoss: 2.307538\n",
      "Train Epoch: 1  [12800/60000 (21%)]\tLoss: 2.315396\n",
      "Train Epoch: 1  [19200/60000 (32%)]\tLoss: 2.299222\n",
      "Train Epoch: 1  [25600/60000 (43%)]\tLoss: 2.301145\n",
      "Train Epoch: 1  [32000/60000 (53%)]\tLoss: 2.279822\n",
      "Train Epoch: 1  [38400/60000 (64%)]\tLoss: 2.266721\n",
      "Train Epoch: 1  [44800/60000 (75%)]\tLoss: 2.265357\n",
      "Train Epoch: 1  [51200/60000 (85%)]\tLoss: 2.233961\n",
      "Train Epoch: 1  [57600/60000 (96%)]\tLoss: 2.189832\n",
      "\n",
      "Test set: Average loss: 2.1518, Accuracy: 5648/10000 (56%)\n",
      "\n",
      "Train Epoch: 2  [0    /60000 (0 %)]\tLoss: 2.160376\n",
      "Train Epoch: 2  [6400 /60000 (11%)]\tLoss: 2.141365\n",
      "Train Epoch: 2  [12800/60000 (21%)]\tLoss: 2.039308\n",
      "Train Epoch: 2  [19200/60000 (32%)]\tLoss: 2.054313\n",
      "Train Epoch: 2  [25600/60000 (43%)]\tLoss: 1.934326\n",
      "Train Epoch: 2  [32000/60000 (53%)]\tLoss: 1.720844\n",
      "Train Epoch: 2  [38400/60000 (64%)]\tLoss: 1.779583\n",
      "Train Epoch: 2  [44800/60000 (75%)]\tLoss: 1.780329\n",
      "Train Epoch: 2  [51200/60000 (85%)]\tLoss: 1.692618\n",
      "Train Epoch: 2  [57600/60000 (96%)]\tLoss: 1.426208\n",
      "\n",
      "Test set: Average loss: 1.0810, Accuracy: 7493/10000 (75%)\n",
      "\n",
      "Train Epoch: 3  [0    /60000 (0 %)]\tLoss: 1.346695\n",
      "Train Epoch: 3  [6400 /60000 (11%)]\tLoss: 1.174952\n",
      "Train Epoch: 3  [12800/60000 (21%)]\tLoss: 1.363157\n",
      "Train Epoch: 3  [19200/60000 (32%)]\tLoss: 1.204214\n",
      "Train Epoch: 3  [25600/60000 (43%)]\tLoss: 1.082306\n",
      "Train Epoch: 3  [32000/60000 (53%)]\tLoss: 0.981850\n",
      "Train Epoch: 3  [38400/60000 (64%)]\tLoss: 0.893920\n",
      "Train Epoch: 3  [44800/60000 (75%)]\tLoss: 0.983767\n",
      "Train Epoch: 3  [51200/60000 (85%)]\tLoss: 0.859100\n",
      "Train Epoch: 3  [57600/60000 (96%)]\tLoss: 0.891785\n",
      "\n",
      "Test set: Average loss: 0.5978, Accuracy: 8443/10000 (84%)\n",
      "\n",
      "Train Epoch: 4  [0    /60000 (0 %)]\tLoss: 0.953549\n",
      "Train Epoch: 4  [6400 /60000 (11%)]\tLoss: 0.865454\n",
      "Train Epoch: 4  [12800/60000 (21%)]\tLoss: 0.826673\n",
      "Train Epoch: 4  [19200/60000 (32%)]\tLoss: 0.923048\n",
      "Train Epoch: 4  [25600/60000 (43%)]\tLoss: 0.884274\n",
      "Train Epoch: 4  [32000/60000 (53%)]\tLoss: 0.806308\n",
      "Train Epoch: 4  [38400/60000 (64%)]\tLoss: 0.904813\n",
      "Train Epoch: 4  [44800/60000 (75%)]\tLoss: 0.762013\n",
      "Train Epoch: 4  [51200/60000 (85%)]\tLoss: 0.852624\n",
      "Train Epoch: 4  [57600/60000 (96%)]\tLoss: 0.645463\n",
      "\n",
      "Test set: Average loss: 0.4537, Accuracy: 8742/10000 (87%)\n",
      "\n",
      "Train Epoch: 5  [0    /60000 (0 %)]\tLoss: 0.732394\n",
      "Train Epoch: 5  [6400 /60000 (11%)]\tLoss: 0.682265\n",
      "Train Epoch: 5  [12800/60000 (21%)]\tLoss: 0.726761\n",
      "Train Epoch: 5  [19200/60000 (32%)]\tLoss: 0.823558\n",
      "Train Epoch: 5  [25600/60000 (43%)]\tLoss: 0.578324\n",
      "Train Epoch: 5  [32000/60000 (53%)]\tLoss: 0.671819\n",
      "Train Epoch: 5  [38400/60000 (64%)]\tLoss: 0.542463\n",
      "Train Epoch: 5  [44800/60000 (75%)]\tLoss: 0.803637\n",
      "Train Epoch: 5  [51200/60000 (85%)]\tLoss: 0.721521\n",
      "Train Epoch: 5  [57600/60000 (96%)]\tLoss: 0.851942\n",
      "\n",
      "Test set: Average loss: 0.3711, Accuracy: 8937/10000 (89%)\n",
      "\n",
      "Train Epoch: 6  [0    /60000 (0 %)]\tLoss: 0.837641\n",
      "Train Epoch: 6  [6400 /60000 (11%)]\tLoss: 0.740251\n",
      "Train Epoch: 6  [12800/60000 (21%)]\tLoss: 0.644119\n",
      "Train Epoch: 6  [19200/60000 (32%)]\tLoss: 0.565790\n",
      "Train Epoch: 6  [25600/60000 (43%)]\tLoss: 0.546353\n",
      "Train Epoch: 6  [32000/60000 (53%)]\tLoss: 0.820986\n",
      "Train Epoch: 6  [38400/60000 (64%)]\tLoss: 0.621154\n",
      "Train Epoch: 6  [44800/60000 (75%)]\tLoss: 0.793683\n",
      "Train Epoch: 6  [51200/60000 (85%)]\tLoss: 0.820693\n",
      "Train Epoch: 6  [57600/60000 (96%)]\tLoss: 0.542495\n",
      "\n",
      "Test set: Average loss: 0.3235, Accuracy: 9063/10000 (91%)\n",
      "\n",
      "Train Epoch: 7  [0    /60000 (0 %)]\tLoss: 0.634718\n",
      "Train Epoch: 7  [6400 /60000 (11%)]\tLoss: 0.514189\n",
      "Train Epoch: 7  [12800/60000 (21%)]\tLoss: 0.770067\n",
      "Train Epoch: 7  [19200/60000 (32%)]\tLoss: 0.631622\n",
      "Train Epoch: 7  [25600/60000 (43%)]\tLoss: 0.529938\n",
      "Train Epoch: 7  [32000/60000 (53%)]\tLoss: 0.397443\n",
      "Train Epoch: 7  [38400/60000 (64%)]\tLoss: 0.640163\n",
      "Train Epoch: 7  [44800/60000 (75%)]\tLoss: 0.641485\n",
      "Train Epoch: 7  [51200/60000 (85%)]\tLoss: 0.527602\n",
      "Train Epoch: 7  [57600/60000 (96%)]\tLoss: 0.662039\n",
      "\n",
      "Test set: Average loss: 0.2940, Accuracy: 9148/10000 (91%)\n",
      "\n",
      "Train Epoch: 8  [0    /60000 (0 %)]\tLoss: 0.586932\n",
      "Train Epoch: 8  [6400 /60000 (11%)]\tLoss: 0.703355\n",
      "Train Epoch: 8  [12800/60000 (21%)]\tLoss: 0.390758\n",
      "Train Epoch: 8  [19200/60000 (32%)]\tLoss: 0.665996\n",
      "Train Epoch: 8  [25600/60000 (43%)]\tLoss: 0.886669\n",
      "Train Epoch: 8  [32000/60000 (53%)]\tLoss: 0.443264\n",
      "Train Epoch: 8  [38400/60000 (64%)]\tLoss: 0.549360\n",
      "Train Epoch: 8  [44800/60000 (75%)]\tLoss: 0.516870\n",
      "Train Epoch: 8  [51200/60000 (85%)]\tLoss: 0.498710\n",
      "Train Epoch: 8  [57600/60000 (96%)]\tLoss: 0.542914\n",
      "\n",
      "Test set: Average loss: 0.2714, Accuracy: 9214/10000 (92%)\n",
      "\n",
      "Train Epoch: 9  [0    /60000 (0 %)]\tLoss: 0.623002\n",
      "Train Epoch: 9  [6400 /60000 (11%)]\tLoss: 0.461626\n",
      "Train Epoch: 9  [12800/60000 (21%)]\tLoss: 0.596291\n",
      "Train Epoch: 9  [19200/60000 (32%)]\tLoss: 0.565032\n",
      "Train Epoch: 9  [25600/60000 (43%)]\tLoss: 0.705789\n",
      "Train Epoch: 9  [32000/60000 (53%)]\tLoss: 0.633020\n",
      "Train Epoch: 9  [38400/60000 (64%)]\tLoss: 0.470497\n",
      "Train Epoch: 9  [44800/60000 (75%)]\tLoss: 0.348952\n",
      "Train Epoch: 9  [51200/60000 (85%)]\tLoss: 0.516327\n",
      "Train Epoch: 9  [57600/60000 (96%)]\tLoss: 0.604115\n",
      "\n",
      "Test set: Average loss: 0.2488, Accuracy: 9269/10000 (93%)\n",
      "\n",
      "Train Epoch: 10 [0    /60000 (0 %)]\tLoss: 0.536042\n",
      "Train Epoch: 10 [6400 /60000 (11%)]\tLoss: 0.502866\n",
      "Train Epoch: 10 [12800/60000 (21%)]\tLoss: 0.469160\n",
      "Train Epoch: 10 [19200/60000 (32%)]\tLoss: 0.477536\n",
      "Train Epoch: 10 [25600/60000 (43%)]\tLoss: 0.297558\n",
      "Train Epoch: 10 [32000/60000 (53%)]\tLoss: 0.480110\n",
      "Train Epoch: 10 [38400/60000 (64%)]\tLoss: 0.545686\n",
      "Train Epoch: 10 [44800/60000 (75%)]\tLoss: 0.532486\n",
      "Train Epoch: 10 [51200/60000 (85%)]\tLoss: 0.506846\n",
      "Train Epoch: 10 [57600/60000 (96%)]\tLoss: 0.367289\n",
      "\n",
      "Test set: Average loss: 0.2310, Accuracy: 9309/10000 (93%)\n",
      "\n",
      "Train Epoch: 11 [0    /60000 (0 %)]\tLoss: 0.420730\n",
      "Train Epoch: 11 [6400 /60000 (11%)]\tLoss: 0.330087\n",
      "Train Epoch: 11 [12800/60000 (21%)]\tLoss: 0.385716\n",
      "Train Epoch: 11 [19200/60000 (32%)]\tLoss: 0.631848\n",
      "Train Epoch: 11 [25600/60000 (43%)]\tLoss: 0.532345\n",
      "Train Epoch: 11 [32000/60000 (53%)]\tLoss: 0.382394\n",
      "Train Epoch: 11 [38400/60000 (64%)]\tLoss: 0.480743\n",
      "Train Epoch: 11 [44800/60000 (75%)]\tLoss: 0.502419\n",
      "Train Epoch: 11 [51200/60000 (85%)]\tLoss: 0.667771\n",
      "Train Epoch: 11 [57600/60000 (96%)]\tLoss: 0.354663\n",
      "\n",
      "Test set: Average loss: 0.2163, Accuracy: 9337/10000 (93%)\n",
      "\n",
      "Train Epoch: 12 [0    /60000 (0 %)]\tLoss: 0.293802\n",
      "Train Epoch: 12 [6400 /60000 (11%)]\tLoss: 0.386215\n",
      "Train Epoch: 12 [12800/60000 (21%)]\tLoss: 0.701859\n",
      "Train Epoch: 12 [19200/60000 (32%)]\tLoss: 0.494809\n",
      "Train Epoch: 12 [25600/60000 (43%)]\tLoss: 0.493918\n",
      "Train Epoch: 12 [32000/60000 (53%)]\tLoss: 0.343929\n",
      "Train Epoch: 12 [38400/60000 (64%)]\tLoss: 0.498962\n",
      "Train Epoch: 12 [44800/60000 (75%)]\tLoss: 0.466460\n",
      "Train Epoch: 12 [51200/60000 (85%)]\tLoss: 0.593413\n",
      "Train Epoch: 12 [57600/60000 (96%)]\tLoss: 0.500184\n",
      "\n",
      "Test set: Average loss: 0.2120, Accuracy: 9365/10000 (94%)\n",
      "\n",
      "Train Epoch: 13 [0    /60000 (0 %)]\tLoss: 0.491933\n",
      "Train Epoch: 13 [6400 /60000 (11%)]\tLoss: 0.346866\n",
      "Train Epoch: 13 [12800/60000 (21%)]\tLoss: 0.221028\n",
      "Train Epoch: 13 [19200/60000 (32%)]\tLoss: 0.544655\n",
      "Train Epoch: 13 [25600/60000 (43%)]\tLoss: 0.317730\n",
      "Train Epoch: 13 [32000/60000 (53%)]\tLoss: 0.509694\n",
      "Train Epoch: 13 [38400/60000 (64%)]\tLoss: 0.632378\n",
      "Train Epoch: 13 [44800/60000 (75%)]\tLoss: 0.444971\n",
      "Train Epoch: 13 [51200/60000 (85%)]\tLoss: 0.451500\n",
      "Train Epoch: 13 [57600/60000 (96%)]\tLoss: 0.542799\n",
      "\n",
      "Test set: Average loss: 0.1954, Accuracy: 9418/10000 (94%)\n",
      "\n",
      "Train Epoch: 14 [0    /60000 (0 %)]\tLoss: 0.431023\n",
      "Train Epoch: 14 [6400 /60000 (11%)]\tLoss: 0.368116\n",
      "Train Epoch: 14 [12800/60000 (21%)]\tLoss: 0.514135\n",
      "Train Epoch: 14 [19200/60000 (32%)]\tLoss: 0.452810\n",
      "Train Epoch: 14 [25600/60000 (43%)]\tLoss: 0.465445\n",
      "Train Epoch: 14 [32000/60000 (53%)]\tLoss: 0.270943\n",
      "Train Epoch: 14 [38400/60000 (64%)]\tLoss: 0.349097\n",
      "Train Epoch: 14 [44800/60000 (75%)]\tLoss: 0.536898\n",
      "Train Epoch: 14 [51200/60000 (85%)]\tLoss: 0.204219\n",
      "Train Epoch: 14 [57600/60000 (96%)]\tLoss: 0.425626\n",
      "\n",
      "Test set: Average loss: 0.1857, Accuracy: 9443/10000 (94%)\n",
      "\n",
      "Train Epoch: 15 [0    /60000 (0 %)]\tLoss: 0.525068\n",
      "Train Epoch: 15 [6400 /60000 (11%)]\tLoss: 0.359941\n",
      "Train Epoch: 15 [12800/60000 (21%)]\tLoss: 0.313764\n",
      "Train Epoch: 15 [19200/60000 (32%)]\tLoss: 0.534865\n"
     ]
    },
    {
     "name": "stdout",
     "output_type": "stream",
     "text": [
      "Train Epoch: 15 [25600/60000 (43%)]\tLoss: 0.358166\n",
      "Train Epoch: 15 [32000/60000 (53%)]\tLoss: 0.457565\n",
      "Train Epoch: 15 [38400/60000 (64%)]\tLoss: 0.384890\n",
      "Train Epoch: 15 [44800/60000 (75%)]\tLoss: 0.470837\n",
      "Train Epoch: 15 [51200/60000 (85%)]\tLoss: 0.289884\n",
      "Train Epoch: 15 [57600/60000 (96%)]\tLoss: 0.335178\n",
      "\n",
      "Test set: Average loss: 0.1809, Accuracy: 9448/10000 (94%)\n",
      "\n"
     ]
    }
   ],
   "source": [
    "losses = np.zeros((16, 2))\n",
    "for epoch in range(1, 16):\n",
    "    losses[epoch - 1, 0] = train(epoch)\n",
    "    losses[epoch - 1, 1] = test()"
   ]
  },
  {
   "cell_type": "code",
   "execution_count": 13,
   "metadata": {},
   "outputs": [
    {
     "data": {
      "text/plain": [
       "[<matplotlib.lines.Line2D at 0x112e7b3c8>]"
      ]
     },
     "execution_count": 13,
     "metadata": {},
     "output_type": "execute_result"
    },
    {
     "data": {
      "image/png": "[encoded data removed]",
      "text/plain": [
       "<matplotlib.figure.Figure at 0x10304de80>"
      ]
     },
     "metadata": {},
     "output_type": "display_data"
    }
   ],
   "source": [
    "plt.figure(figsize=(10, 6))\n",
    "ax = plt.gca()    \n",
    "ax.set_xlabel('Epoch')\n",
    "ax.set_ylabel('Loss')\n",
    "ax.plot(np.arange(len(losses)), losses[:, 0], color='g', label='train')\n",
    "ax.plot(np.arange(len(losses)), losses[:, 1], color='r', label='test')"
   ]
  },
  {
   "cell_type": "code",
   "execution_count": null,
   "metadata": {
    "collapsed": true
   },
   "outputs": [],
   "source": []
  }
 ],
 "metadata": {
  "kernelspec": {
   "display_name": "Python 3",
   "language": "python",
   "name": "python3"
  },
  "language_info": {
   "codemirror_mode": {
    "name": "ipython",
    "version": 3
   },
   "file_extension": ".py",
   "mimetype": "text/x-python",
   "name": "python",
   "nbconvert_exporter": "python",
   "pygments_lexer": "ipython3",
   "version": "3.5.1"
  }
 },
 "nbformat": 4,
 "nbformat_minor": 2
}
